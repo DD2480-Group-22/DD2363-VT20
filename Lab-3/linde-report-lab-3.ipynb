{
  "nbformat": 4,
  "nbformat_minor": 0,
  "metadata": {
    "colab": {
      "name": "template-report-lab-X.ipynb",
      "provenance": [],
      "include_colab_link": true
    },
    "kernelspec": {
      "name": "python3",
      "display_name": "Python 3"
    }
  },
  "cells": [
    {
      "cell_type": "markdown",
      "metadata": {
        "id": "view-in-github",
        "colab_type": "text"
      },
      "source": [
        "<a href=\"https://colab.research.google.com/github/johanhoffman/DD2363-VT20/blob/lindevanbeers/Lab-3/linde-report-lab-3.ipynb\" target=\"_parent\"><img src=\"https://colab.research.google.com/assets/colab-badge.svg\" alt=\"Open In Colab\"/></a>"
      ]
    },
    {
      "cell_type": "markdown",
      "metadata": {
        "id": "6RgtXlfYO_i7",
        "colab_type": "text"
      },
      "source": [
        "# **Lab X: Title**\n",
        "**Johan Hoffman**"
      ]
    },
    {
      "cell_type": "markdown",
      "metadata": {
        "id": "9x_J5FVuPzbm",
        "colab_type": "text"
      },
      "source": [
        "# **Abstract**"
      ]
    },
    {
      "cell_type": "markdown",
      "metadata": {
        "id": "6UFTSzW7P8kL",
        "colab_type": "text"
      },
      "source": [
        "\n",
        "\n",
        "```\n",
        "# This is formatted as code\n",
        "```\n",
        "\n",
        "Short summary of the lab report. State the objectives, methods used, main results and conlusions. "
      ]
    },
    {
      "cell_type": "markdown",
      "metadata": {
        "id": "yJipbXtnjrJZ",
        "colab_type": "text"
      },
      "source": [
        ""
      ]
    },
    {
      "cell_type": "markdown",
      "metadata": {
        "id": "OkT8J7uOWpT3",
        "colab_type": "text"
      },
      "source": [
        "#**About the code**"
      ]
    },
    {
      "cell_type": "markdown",
      "metadata": {
        "id": "HmB2noTr1Oyo",
        "colab_type": "text"
      },
      "source": [
        "A short statement on who is the author of the file, and if the code is distributed under a certain license. "
      ]
    },
    {
      "cell_type": "code",
      "metadata": {
        "id": "Pdll1Xc9WP0e",
        "colab_type": "code",
        "outputId": "36d94c57-2721-4400-bff9-f9af834dbb6e",
        "colab": {
          "base_uri": "https://localhost:8080/",
          "height": 34
        }
      },
      "source": [
        "\"\"\"This program is a template for lab reports in the course\"\"\"\n",
        "\"\"\"DD2363 Methods in Scientific Computing, \"\"\"\n",
        "\"\"\"KTH Royal Institute of Technology, Stockholm, Sweden.\"\"\"\n",
        "\n",
        "# Copyright (C) 2019 Johan Hoffman (jhoffman@kth.se)\n",
        "\n",
        "# This file is part of the course DD2363 Methods in Scientific Computing\n",
        "# KTH Royal Institute of Technology, Stockholm, Sweden\n",
        "#\n",
        "# This is free software: you can redistribute it and/or modify\n",
        "# it under the terms of the GNU Lesser General Public License as published by\n",
        "# the Free Software Foundation, either version 3 of the License, or\n",
        "# (at your option) any later version.\n",
        "\n",
        "# This template is maintained by Johan Hoffman\n",
        "# Please report problems to jhoffman@kth.se"
      ],
      "execution_count": 30,
      "outputs": [
        {
          "output_type": "execute_result",
          "data": {
            "text/plain": [
              "'KTH Royal Institute of Technology, Stockholm, Sweden.'"
            ]
          },
          "metadata": {
            "tags": []
          },
          "execution_count": 30
        }
      ]
    },
    {
      "cell_type": "markdown",
      "metadata": {
        "id": "28xLGz8JX3Hh",
        "colab_type": "text"
      },
      "source": [
        "# **Set up environment**"
      ]
    },
    {
      "cell_type": "markdown",
      "metadata": {
        "id": "D2PYNusD08Wa",
        "colab_type": "text"
      },
      "source": [
        "To have access to the neccessary modules you have to run this cell. If you need additional modules, this is where you add them. "
      ]
    },
    {
      "cell_type": "code",
      "metadata": {
        "id": "Xw7VlErAX7NS",
        "colab_type": "code",
        "colab": {}
      },
      "source": [
        "# Load neccessary modules.\n",
        "from google.colab import files\n",
        "\n",
        "import time\n",
        "import numpy as np\n",
        "\n",
        "from matplotlib import pyplot as plt\n",
        "from matplotlib import tri\n",
        "from matplotlib import axes\n",
        "from mpl_toolkits.mplot3d import Axes3D\n",
        "\n",
        "def forward_sub(L,b):\n",
        "  n = L.shape[1]\n",
        "  x = np.zeros(n)\n",
        "  # Use backward substitution to solve\n",
        "  x[0] = b[0]/L[0,0]\n",
        "  for i in range(1,n):\n",
        "    sum = 0\n",
        "    for j in range(0, i):\n",
        "      sum = sum +L[i,j]*x[j]\n",
        "    x[i] = (b[i]-sum)/L[i,i]  \n",
        "  return x"
      ],
      "execution_count": 0,
      "outputs": []
    },
    {
      "cell_type": "markdown",
      "metadata": {
        "id": "gnO3lhAigLev",
        "colab_type": "text"
      },
      "source": [
        "# **Introduction**"
      ]
    },
    {
      "cell_type": "markdown",
      "metadata": {
        "id": "l5zMzgPlRAF6",
        "colab_type": "text"
      },
      "source": [
        "Give a short description of the problem investigated in the report, and provide some background information so that the reader can understand the context. \n",
        "\n",
        "Briefly describe what method you have chosen to solve the problem, and justify why you selected that method. \n",
        "\n",
        "Here you can express mathematics through Latex syntax, and use hyperlinks for references.\n",
        "\n",
        "[Hyperlink to DD2363 course website.](https://kth.instructure.com/courses/7500)\n",
        "\n",
        "$\n",
        "{\\displaystyle \\frac{\\partial u}{\\partial t}} + u\\cdot \\nabla u +\\nabla p = f, \\quad \\nabla \\cdot u=0$\n",
        "\n"
      ]
    },
    {
      "cell_type": "markdown",
      "metadata": {
        "id": "WeFO9QMeUOAu",
        "colab_type": "text"
      },
      "source": [
        "# **Methods**"
      ]
    },
    {
      "cell_type": "markdown",
      "metadata": {
        "id": "zF4iBj5VURZx",
        "colab_type": "text"
      },
      "source": [
        "Describe the methods you used to solve the problem. This may be a combination of text, mathematical formulas (Latex), algorithms (code), data and output.  "
      ]
    },
    {
      "cell_type": "markdown",
      "metadata": {
        "id": "Gt6k8FbATgL_",
        "colab_type": "text"
      },
      "source": [
        "### Jacobi Iteration for Ax=b\n",
        "\n",
        "This algorithm takes as input nxn matrix A, and vector b of length n, and a floating number tol.\n",
        "\n",
        "The output is an approximation of vector x such that Ax = b. The accuracy is such that $||b-Ax|| \\leq tol$. \n",
        "\n",
        "This algorithm uses the formula \n",
        "\n",
        "$x_i^{(k+1)} = a_{ii}^{-1} \\left(b_i - \\sum\\limits_{j≠i} a_{ij}x_j^{(k)}\\right)$\n",
        "\n",
        "to calculate the iterations of $x$."
      ]
    },
    {
      "cell_type": "code",
      "metadata": {
        "id": "sjZDPsxvlibS",
        "colab_type": "code",
        "colab": {}
      },
      "source": [
        "def jacobi_iter(A, b, tol, test):\n",
        "  # Initialization\n",
        "  n = A.shape[0]\n",
        "  D = np.multiply(A,np.eye(n))\n",
        "  A2 = A - D\n",
        "  Dinvm = np.multiply(1/A,np.eye(n))\n",
        "  Dinv = np.zeros([n,]) # Put values of D inverse in array for faster computation\n",
        "  for i in range(n):\n",
        "    Dinv[i] = Dinvm[i,i]\n",
        "  x = np.zeros([n,])\n",
        "  k = 0\n",
        "  xnew = x.copy()\n",
        "  # Jacobi iteration algorithm\n",
        "  r = b - np.matmul(A,x)\n",
        "  rs = np.array([np.linalg.norm(r)])\n",
        "  while np.linalg.norm(r) > tol:\n",
        "    xnew = np.array(np.multiply(Dinv, b-np.matmul(A2,x)))[0] # implementation of the function\n",
        "    x = xnew.copy()\n",
        "    r = b - np.matmul(A,x)\n",
        "    rs = np.append(rs, np.linalg.norm(r))\n",
        "    k += 1  \n",
        "  # Covergence visualisation\n",
        "  fig = plt.figure()\n",
        "  rPlt = fig.add_subplot(111)\n",
        "  rPlt.plot(rs, np.array(range(k+1)))\n",
        "  rPlt.set_xlabel(\"iterations\")\n",
        "  rPlt.set_ylabel(\"||r||\")\n",
        "  plt.title(\"Convergence of ||r||, where r = b-Ax, over iterations\\n for test %i\" % test)\n",
        "  return x\n",
        "\n",
        "def converge_criterion_J(A):\n",
        "  n = A.shape[0]\n",
        "  I = np.eye(n)\n",
        "  Dinv = np.multiply(1/A,I)\n",
        "  M = I - np.matmul(Dinv,A)\n",
        "  eigvals = np.linalg.eigvals(M)\n",
        "  max = 0\n",
        "  for i in range(len(eigvals)):\n",
        "    if eigvals[i] > max:\n",
        "      max = eigvals[i]\n",
        "  if max < 1:\n",
        "    return True\n",
        "  else:\n",
        "    return False"
      ],
      "execution_count": 0,
      "outputs": []
    },
    {
      "cell_type": "markdown",
      "metadata": {
        "id": "fKZzkHXATlvp",
        "colab_type": "text"
      },
      "source": [
        "### Gauss-Seidel Iteration for Ax=b\n",
        "\n",
        "Input: matrix A, vector b\n",
        "\n",
        "Output: vector x\n",
        "\n",
        "Test: convergence of residual || Ax-b ||, || x-y || for manufactured/exact solution y"
      ]
    },
    {
      "cell_type": "code",
      "metadata": {
        "id": "7NG2H1pMprHF",
        "colab_type": "code",
        "colab": {
          "base_uri": "https://localhost:8080/",
          "height": 327
        },
        "outputId": "fe04a6ac-0684-48ed-f3e8-bb880e3ea65c"
      },
      "source": [
        "def GS_iter(A, b, tol, test):\n",
        "  # Initialization\n",
        "  n = A.shape[0]\n",
        "  x = np.zeros([n,])\n",
        "  xnew = x.copy()\n",
        "  k = 0\n",
        "\n",
        "  # Calculate iteration matrix\n",
        "  L = A.copy()\n",
        "  for i in range(n):\n",
        "    for j in range(i,n):\n",
        "      L[i,j] = 0\n",
        "  U = A.copy()\n",
        "  for i in range(n):\n",
        "    for j in range(0,i+1):\n",
        "      U[i,j] = 0\n",
        "  Dinvm = np.multiply(1/A,np.eye(n))\n",
        "  Dinv = np.zeros([n,]) # Put values of D inverse in array for faster computation\n",
        "  for i in range(n):\n",
        "    Dinv[i] = Dinvm[i,i]\n",
        "\n",
        "  # Jacobi iteration algorithm\n",
        "  r = b - np.matmul(A,x)\n",
        "  rs = np.array([np.linalg.norm(r)])\n",
        "  while np.linalg.norm(r) > tol:\n",
        "    xnew = np.array(np.multiply(Dinv, b-np.matmul(L,x)-np.matmul(U,x)))[0] # implementation of the function\n",
        "    x = xnew.copy()\n",
        "    r = b - np.matmul(A,x)\n",
        "    rs = np.append(rs, np.linalg.norm(r))\n",
        "    k += 1\n",
        "  # Covergence visualisation\n",
        "  fig = plt.figure()\n",
        "  rPlt = fig.add_subplot(111)\n",
        "  rPlt.plot(rs, np.array(range(k+1)))\n",
        "  rPlt.set_xlabel(\"iterations\")\n",
        "  rPlt.set_ylabel(\"||r||\")\n",
        "  plt.title(\"Convergence of ||r||, where r = b-Ax, over iterations\\n for test %i\" % test)\n",
        "  return x\n",
        "\n",
        "def converge_criterion_GS(A):\n",
        "  n = A.shape[0]\n",
        "  I = np.eye(n)\n",
        "  Dinv = np.multiply(1/A,I)\n",
        "  L = A.copy()\n",
        "  for i in range(n):\n",
        "    for j in range(i,n):\n",
        "      L[i,j] = 0\n",
        "  Linv = forward_sub\n",
        "  M = I - np.matmul(Dinv,A)\n",
        "  eigvals = np.linalg.eigvals(M)\n",
        "  max = 0\n",
        "  for i in range(len(eigvals)):\n",
        "    if eigvals[i] > max:\n",
        "      max = eigvals[i]\n",
        "  if max < 1:\n",
        "    return True\n",
        "  else:\n",
        "    return False\n",
        "\n",
        "A = np.matrix([[12,3,-5],[1,5,3],[3,7,13]])\n",
        "b = np.array([1,28,76])\n",
        "x = GS_iter(A,b,0.001,1)\n",
        "print(x)"
      ],
      "execution_count": 27,
      "outputs": [
        {
          "output_type": "stream",
          "text": [
            "[0.99996753 3.00006482 4.00002598]\n"
          ],
          "name": "stdout"
        },
        {
          "output_type": "display_data",
          "data": {
            "image/png": "[encoded data removed]",
            "text/plain": [
              "<Figure size 432x288 with 1 Axes>"
            ]
          },
          "metadata": {
            "tags": []
          }
        }
      ]
    },
    {
      "cell_type": "markdown",
      "metadata": {
        "id": "8d3UDeyCTwfH",
        "colab_type": "text"
      },
      "source": [
        "### Newton's method for scalar nonlinear equation f(x)=*0*\n",
        "\n",
        "Input: scalar function f(x)\n",
        "\n",
        "Output: real number x\n",
        "\n",
        "Test: convergence of residual |f(x)|, |x-y| for manufactured/exact solution y"
      ]
    },
    {
      "cell_type": "markdown",
      "metadata": {
        "id": "SsQLT38gVbn_",
        "colab_type": "text"
      },
      "source": [
        "# **Results**"
      ]
    },
    {
      "cell_type": "markdown",
      "metadata": {
        "id": "RLwlnOzuV-Cd",
        "colab_type": "text"
      },
      "source": [
        "Present the results. If the result is an algorithm that you have described under the *Methods* section, you can present the data from verification and performance tests in this section. If the result is the output from a computational experiment this is where you present a selection of that data. "
      ]
    },
    {
      "cell_type": "markdown",
      "metadata": {
        "id": "I1KydGZRUC7f",
        "colab_type": "text"
      },
      "source": [
        "### Jacobi Iteration for *Ax=b*\n",
        "\n",
        "I have done 3 tests: 1 and 2 both show the covergence of the residual, the second also has an exact solution, for which I calculated the distance between the solution of my algorithm and the exact solution. \n",
        "\n",
        "The 3rd test is one that does not meet the covergence criterion, which the written method detects, and therefore it will not attempt to calculate an answer. "
      ]
    },
    {
      "cell_type": "code",
      "metadata": {
        "id": "DCzxLyBj7xJd",
        "colab_type": "code",
        "colab": {
          "base_uri": "https://localhost:8080/",
          "height": 1000
        },
        "outputId": "b8cf2cb9-4828-438b-a59a-eed3bb8fc092"
      },
      "source": [
        "tol = 0.001\n",
        "\n",
        "print(\"Test 1\")\n",
        "A = np.matrix([[20,1,-2],[3,20,-1],[2,-3,20]])\n",
        "b = np.array([17,-18,25])\n",
        "print(\"A:\", A)\n",
        "print(\"b:\", b)\n",
        "if converge_criterion_J(A):\n",
        "  x = jacobi_iter(A,b,tol,1)\n",
        "  print(\"x:\", x)\n",
        "  print(\"Ax:\",np.matmul(A,x))\n",
        "  print(\"||b-Ax|| =\", np.linalg.norm(b-np.matmul(A,x)))\n",
        "else:\n",
        "  print(\"Convergence criterion was not met\")\n",
        "\n",
        "print(\"\\nTest 2\")\n",
        "A = np.matrix([[20,1,-2],[3,20,-1],[2,-3,20]])\n",
        "y = np.array([17,-18,25])\n",
        "b = np.array(np.matmul(A,y))[0]\n",
        "print(\"A:\", A)\n",
        "print(\"y:\", y)\n",
        "print(\"b:\", b)\n",
        "if converge_criterion_J(A):\n",
        "  x = jacobi_iter(A,b,tol,2)\n",
        "  print(\"x:\", x)\n",
        "  print(\"Ax:\",np.matmul(A,x))\n",
        "  print(\"||y-x|| =\", np.linalg.norm(y-x))\n",
        "else:\n",
        "  print(\"Convergence criterion was not met\")\n",
        "\n",
        "print(\"\\nTest 3\")\n",
        "A = np.matrix([[1,2,3],[4,5,6],[7,8,9]])\n",
        "b = np.array([1,2,3])\n",
        "#b = np.array(np.matmul(A,y))[0]\n",
        "print(\"A:\", A)\n",
        "print(\"b:\", b)\n",
        "if converge_criterion_J(A):\n",
        "  x = jacobi_iter(A,b,tol,3)\n",
        "  print(\"x:\", x)\n",
        "  print(\"Ax:\",np.matmul(A,x))\n",
        "else:\n",
        "  print(\"Convergence criterion was not met\")\n",
        "print(\"\\n\")"
      ],
      "execution_count": 29,
      "outputs": [
        {
          "output_type": "stream",
          "text": [
            "Test 1\n",
            "A: [[20  1 -2]\n",
            " [ 3 20 -1]\n",
            " [ 2 -3 20]]\n",
            "b: [ 17 -18  25]\n",
            "x: [ 0.9999995  -0.99999713  0.99999175]\n",
            "Ax: [[ 17.00000938 -17.99993575  24.99982537]]\n",
            "||b-Ax|| = 0.0001863057802412386\n",
            "\n",
            "Test 2\n",
            "A: [[20  1 -2]\n",
            " [ 3 20 -1]\n",
            " [ 2 -3 20]]\n",
            "y: [ 17 -18  25]\n",
            "b: [ 272 -334  588]\n",
            "x: [ 16.99997933 -18.00001014  25.0000087 ]\n",
            "Ax: [[ 271.99955896 -334.00027347  588.00016306]]\n",
            "||y-x|| = 2.4615331222363075e-05\n",
            "\n",
            "Test 3\n",
            "A: [[1 2 3]\n",
            " [4 5 6]\n",
            " [7 8 9]]\n",
            "b: [1 2 3]\n",
            "Convergence criterion was not met\n",
            "\n",
            "\n"
          ],
          "name": "stdout"
        },
        {
          "output_type": "display_data",
          "data": {
            "image/png": "[encoded data removed]",
            "text/plain": [
              "<Figure size 432x288 with 1 Axes>"
            ]
          },
          "metadata": {
            "tags": []
          }
        },
        {
          "output_type": "display_data",
          "data": {
            "image/png": "[encoded data removed]",
            "text/plain": [
              "<Figure size 432x288 with 1 Axes>"
            ]
          },
          "metadata": {
            "tags": []
          }
        }
      ]
    },
    {
      "cell_type": "markdown",
      "metadata": {
        "id": "POZyNJZWUGjB",
        "colab_type": "text"
      },
      "source": [
        "### Gauss-Seidel Iteration for *Ax=b*"
      ]
    },
    {
      "cell_type": "markdown",
      "metadata": {
        "id": "LFeuTh30UKHf",
        "colab_type": "text"
      },
      "source": [
        "### Newton's method for scalar nonlinear equation *f(x)=0*\n"
      ]
    },
    {
      "cell_type": "markdown",
      "metadata": {
        "id": "_4GLBv0zWr7m",
        "colab_type": "text"
      },
      "source": [
        "# **Discussion**"
      ]
    },
    {
      "cell_type": "markdown",
      "metadata": {
        "id": "6bcsDSoRXHZe",
        "colab_type": "text"
      },
      "source": [
        "Summarize your results and your conclusions. Were the results expected or surprising. Do your results have implications outside the particular problem investigated in this report? "
      ]
    },
    {
      "cell_type": "markdown",
      "metadata": {
        "id": "1vcIILuQYsEA",
        "colab_type": "text"
      },
      "source": [
        "# **APPENDIX**"
      ]
    },
    {
      "cell_type": "markdown",
      "metadata": {
        "id": "NlJ-Y9KAYt4Z",
        "colab_type": "text"
      },
      "source": [
        "In this appendix some examples are given to express and visualizing mathematical concepts such as vectors, matrices, meshes and functions. \n",
        "\n",
        "This is not part of the template report for the course."
      ]
    },
    {
      "cell_type": "code",
      "metadata": {
        "id": "Y-enWfBvcbRZ",
        "colab_type": "code",
        "colab": {}
      },
      "source": [
        ""
      ],
      "execution_count": 0,
      "outputs": []
    },
    {
      "cell_type": "markdown",
      "metadata": {
        "id": "I5Kf3qRyY5J5",
        "colab_type": "text"
      },
      "source": [
        "# **Vector**"
      ]
    },
    {
      "cell_type": "markdown",
      "metadata": {
        "id": "SBKa3PEj0N9D",
        "colab_type": "text"
      },
      "source": [
        "In this cell some basic commands are introduced for how to define and process a vector, where the NumPy array data type is used. "
      ]
    },
    {
      "cell_type": "code",
      "metadata": {
        "colab_type": "code",
        "id": "PbnT724f5mfQ",
        "colab": {}
      },
      "source": [
        "# Just a test\n",
        "# Create a vector as a NumPy array\n",
        "x = np.array([1,2,3,4])\n",
        "\n",
        "# Print various attributes of the vector\n",
        "print('x =',x)\n",
        "print('x[2] =',x[2])\n",
        "print('x[0:2] =',x[0:2])\n",
        "print('x.shape =',x.shape)\n",
        "print('x.ndim =',x.ndim)\n",
        "print('x.size =',x.size)\n",
        "print('x.dtype =',x.dtype)\n",
        "\n",
        "# Print the elements of vector x\n",
        "for i in range(x.size):\n",
        "  print(\"x[\",i,\"] =\",x[i])\n",
        "\n",
        "# Assign a float value to the int vector x\n",
        "x[1] = 2.1\n",
        "print('x =',x)\n",
        "\n",
        "# Copy the int vector x to a float vector xf\n",
        "xf = x.astype(float)\n",
        "xf[1] = 2.1\n",
        "print('xf =',xf)\n",
        "print('xf.dtype =',xf.dtype)\n",
        "\n",
        "# Create a complex vector \n",
        "y = np.array([2,3,4], dtype=complex)\n",
        "print('y =',y)\n",
        "print('y.dtype =',y.dtype)\n",
        "\n",
        "# Create a vector z by defining a range through an increment\n",
        "z = np.arange(12, 28, 4.5)\n",
        "print('z =',z)\n",
        "\n",
        "# Overwrite the vector z by a vector of uniformly spaced elements in a range\n",
        "pi=np.pi\n",
        "pi\n",
        "z = np.linspace(0, 2*pi, 5)\n",
        "print('z =',z)\n",
        "\n",
        "# Visualize the vector in a plot. \n",
        "plt.figure()\n",
        "plt.plot(x,2*x,'ro-')\n",
        "plt.show()"
      ],
      "execution_count": 0,
      "outputs": []
    },
    {
      "cell_type": "markdown",
      "metadata": {
        "id": "trQVmLgAZGU7",
        "colab_type": "text"
      },
      "source": [
        "# **Matrix**"
      ]
    },
    {
      "cell_type": "markdown",
      "metadata": {
        "id": "ADesgm5x01TF",
        "colab_type": "text"
      },
      "source": [
        "In this cell some basic commands for defining and processing a matrix\n",
        "is introduced, where we use the NumPy array data type. "
      ]
    },
    {
      "cell_type": "code",
      "metadata": {
        "id": "QdJvGD6NZKNc",
        "colab_type": "code",
        "colab": {}
      },
      "source": [
        "# Define a matrix as a NumPy array\n",
        "A = np.array([[2,4,6], [3,6,9], [1,2,1]])\n",
        "\n",
        "# Print various attributes of the matrix \n",
        "print('A =',A)\n",
        "print('A[1,0] =',A[1,0])\n",
        "print('A.shape =',A.shape)\n",
        "print('A.ndim =',A.ndim)\n",
        "print('A.size =',A.size)\n",
        "\n",
        "# Plot the matrix\n",
        "plt.figure()\n",
        "plt.plot(A,'o-')\n",
        "\n",
        "# Construct a simple sparse matrix class using the CRS data structure\n",
        "class spMatrix:\n",
        "  def __init__(self, val, col_idx, row_ptr):\n",
        "    self.val = val\n",
        "    self.col_idx = col_idx\n",
        "    self.row_ptr = row_ptr\n",
        "    \n",
        "# Create a sparse matrix object \n",
        "val = np.array([3, 2, 2, 2, 1, 1, 3, 2, 1, 2, 3])\n",
        "col_idx = np.array([1, 2, 4, 2, 3, 3, 3, 4, 5, 5, 6])\n",
        "row_ptr = np.array([1, 4, 6, 7, 9, 10])\n",
        "spA = spMatrix(val, col_idx, row_ptr)\n",
        "\n",
        "# Print sparse matrix object attributes\n",
        "print('Sparse matrix values: \\n',spA.val)\n",
        "print('Sparse matrix column indices: \\n',spA.col_idx)\n",
        "print('Sparse matrix row pointer: \\n',spA.row_ptr)\n",
        "    "
      ],
      "execution_count": 0,
      "outputs": []
    },
    {
      "cell_type": "markdown",
      "metadata": {
        "id": "idDHnPmv9c6H",
        "colab_type": "text"
      },
      "source": [
        "# **Function**"
      ]
    },
    {
      "cell_type": "markdown",
      "metadata": {
        "id": "PwYg0g0-EH2J",
        "colab_type": "text"
      },
      "source": [
        "In this cell we illustrate how functions are defined. "
      ]
    },
    {
      "cell_type": "code",
      "metadata": {
        "id": "eDlRKNOK9fNo",
        "colab_type": "code",
        "colab": {}
      },
      "source": [
        "# Define a function f(x,y)\n",
        "def f(x,y):\n",
        "  return x + y \n",
        "\n",
        "# Verify the function output\n",
        "print('f(3,4) =',f(3,4))\n",
        "\n",
        "# Define a function of a function\n",
        "def g1(fcn,arg1,arg2):\n",
        "  z = fcn(arg1,arg2)\n",
        "  print('z =',z)\n",
        "\n",
        "# Call the function\n",
        "g1(f,6,7)\n",
        "\n",
        "# Define a function of a function with arguments in a list or array\n",
        "def g2(fcn,arg):\n",
        "  z = fcn(*arg)\n",
        "  print('z =',z)\n",
        "  \n",
        "# Call the function with arguments as list and array\n",
        "xlist = [8,9]\n",
        "xarray = np.array([11,3])\n",
        "g2(f,xlist)\n",
        "g2(f,xarray)\n",
        "\n",
        "# Define a function to format the print out for a matrix \n",
        "def printMatrix(A):\n",
        "   rows = A.shape[0]\n",
        "   cols = A.shape[1]\n",
        "   for i in range(0,rows):\n",
        "      for j in range(0,cols):\n",
        "         print(A[i,j],\" \", end='')\n",
        "      print()\n",
        "\n",
        "# Define matrix      \n",
        "A = np.array([[1,2,3], [4,5,6], [7,8,9]])\n",
        "\n",
        "# Verify the function output\n",
        "print('A =', A)\n",
        "print('A =')\n",
        "printMatrix(A)\n",
        "print('A^T =')\n",
        "printMatrix(A.transpose())\n",
        "\n",
        "# Plot a Euclidian position vector v \n",
        "def plotEVector(vec):\n",
        "  plt.figure()\n",
        "  plt.xlim([-1.5*vec[0], 1.5*vec[0]])\n",
        "  plt.ylim([-1.5*vec[1], 1.5*vec[1]])\n",
        "  plt.quiver(0, 0, vec[0], vec[1], scale=1, scale_units='xy', angles='xy')\n",
        "  plt.show()\n",
        "\n",
        "v = np.array([3,4])\n",
        "plotEVector(v)\n",
        "\n",
        "\n"
      ],
      "execution_count": 0,
      "outputs": []
    },
    {
      "cell_type": "markdown",
      "metadata": {
        "id": "hmpw8QnuzSSD",
        "colab_type": "text"
      },
      "source": [
        "# **Plot**"
      ]
    },
    {
      "cell_type": "code",
      "metadata": {
        "id": "6zmuvOqEzWfA",
        "colab_type": "code",
        "colab": {}
      },
      "source": [
        "# Define a range for a parameter t\n",
        "t = np.arange( 0.0, 10, 0.5)\n",
        "\n",
        "# Initialize a new figure and set the size \n",
        "plt.figure(2)\n",
        "plt.figure(figsize=(12,6))\n",
        "\n",
        "# Define a subplot structure and choose the first subplot \n",
        "plt.subplot(121)\n",
        "\n",
        "# Plot a standard NumPy function against the parameter t\n",
        "plt.plot(t,np.cos(t))\n",
        "\n",
        "# Set plot labels and title for the subplot\n",
        "plt.xlabel('x')\n",
        "plt.ylabel('y')\n",
        "plt.title('My plot: $y = cos(x)$')\n",
        "\n",
        "# Choose the other subplot\n",
        "plt.subplot(122)\n",
        "\n",
        "# Plot three functions in the same subplot\n",
        "plt.plot(t, np.sin(f(t,3)), 'g*', t, 0.03*t**2, 'ro', t, 0.1*t, 'b')\n",
        "plt.axis([-1, 12, -2 ,3])\n",
        "\n",
        "# Show the figure\n",
        "plt.show()"
      ],
      "execution_count": 0,
      "outputs": []
    },
    {
      "cell_type": "markdown",
      "metadata": {
        "id": "M2LbkCoxNV8i",
        "colab_type": "text"
      },
      "source": [
        "# Triangular **mesh**"
      ]
    },
    {
      "cell_type": "markdown",
      "metadata": {
        "id": "cnwG2HPEFcyL",
        "colab_type": "text"
      },
      "source": [
        "This cell describes how to generate a triangular mesh from a point cloud by the Delaunay algorithm. It also illustrates how to access the mesh data structures. "
      ]
    },
    {
      "cell_type": "code",
      "metadata": {
        "id": "4stcLbraNZPY",
        "colab_type": "code",
        "colab": {}
      },
      "source": [
        "# Start the clock \n",
        "start = time.time()\n",
        "\n",
        "# Generate a point cloud\n",
        "Nx = 5\n",
        "Ny = 5\n",
        "hx = 1.0/(Nx-1)\n",
        "hy = 1.0/(Ny-1)\n",
        "x = np.zeros((Nx*Ny))\n",
        "y = np.zeros((Nx*Ny))\n",
        "for i in range(Nx):\n",
        "  for j in range(Ny):\n",
        "    x[i*Nx + j] = j*hx\n",
        "    y[i*Nx + j] = i*hy\n",
        "\n",
        "# Generate a mesh from the point cloud using a Delaunay algorithm\n",
        "mesh = tri.Triangulation( x, y )\n",
        "\n",
        "# Stop the clock\n",
        "end = time.time()\n",
        "\n",
        "# Print the measured time\n",
        "print (\"Mesh generation took: \", end - start, \"seconds (wall-clock time)\")\n",
        "\n",
        "# Print mesh data structure\n",
        "vertices = np.array([mesh.x, mesh.y])\n",
        "print('vertices = \\n', vertices)\n",
        "print('edges = \\n', mesh.edges)\n",
        "print('triangles = \\n', mesh.triangles)\n",
        "print('neighbor triangles = \\n', mesh.neighbors)\n",
        "\n",
        "# Plot the mesh \n",
        "plt.figure(3)\n",
        "plt.figure(figsize=(10,10))\n",
        "plt.triplot(mesh, 'bo-', lw=1)\n",
        "plt.title('Delaunay mesh')\n",
        "plt.show()\n",
        "\n",
        "# Define a function g(x,y)\n",
        "def g(x,y):\n",
        "    return np.sin(10*x)*np.cos(3*y)\n",
        "\n",
        "# Plot the function g(x,y) in a contour plot\n",
        "plt.figure(4)\n",
        "plt.tricontour(mesh, g(x,y), cmap=plt.cm.spectral)\n",
        "plt.show()\n",
        "\n",
        "# Plot the function g(x,y) in 3D as a surface plot\n",
        "fig = plt.figure(5)\n",
        "ax1 = fig.add_subplot(111, projection='3d')\n",
        "surf = ax1.plot_trisurf(mesh, g(x,y), cmap=plt.cm.coolwarm)\n",
        "fig.colorbar(surf, shrink=0.5, aspect=10)\n",
        "ax1.view_init(20,10)\n",
        "plt.show()"
      ],
      "execution_count": 0,
      "outputs": []
    },
    {
      "cell_type": "markdown",
      "metadata": {
        "id": "lmSvJV4dYVN2",
        "colab_type": "text"
      },
      "source": [
        "# Parametric **curve**"
      ]
    },
    {
      "cell_type": "markdown",
      "metadata": {
        "id": "fXevCzGfYZPj",
        "colab_type": "text"
      },
      "source": [
        "This cell illustrates how to visualize a parametric curve."
      ]
    },
    {
      "cell_type": "code",
      "metadata": {
        "id": "V9qqme4YYhrW",
        "colab_type": "code",
        "colab": {}
      },
      "source": [
        "# Define paramter range\n",
        "t = np.linspace(0, 4*np.pi, 100)\n",
        "\n",
        "# Define the curve\n",
        "x = t*np.cos(t)\n",
        "y = t*np.sin(t)\n",
        "z = t\n",
        "\n",
        "fig = plt.figure(6)\n",
        "ax = fig.gca(projection = '3d')\n",
        "ax.plot(x, y, z)\n",
        "plt.title('Parametric curve')\n",
        "plt.show()"
      ],
      "execution_count": 0,
      "outputs": []
    }
  ]
}