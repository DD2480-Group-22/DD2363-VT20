{
  "nbformat": 4,
  "nbformat_minor": 0,
  "metadata": {
    "colab": {
      "name": "template-report-lab-X.ipynb",
      "provenance": [],
      "include_colab_link": true
    },
    "kernelspec": {
      "name": "python3",
      "display_name": "Python 3"
    }
  },
  "cells": [
    {
      "cell_type": "markdown",
      "metadata": {
        "id": "view-in-github",
        "colab_type": "text"
      },
      "source": [
        "<a href=\"https://colab.research.google.com/github/johanhoffman/DD2363-VT20/blob/lindevanbeers/Lab-1/report-lab-1.ipynb\" target=\"_parent\"><img src=\"https://colab.research.google.com/assets/colab-badge.svg\" alt=\"Open In Colab\"/></a>"
      ]
    },
    {
      "cell_type": "markdown",
      "metadata": {
        "id": "6RgtXlfYO_i7",
        "colab_type": "text"
      },
      "source": [
        "# **Lab 1: Matrix Algorithms**\n",
        "**Linde van Beers**"
      ]
    },
    {
      "cell_type": "markdown",
      "metadata": {
        "id": "9x_J5FVuPzbm",
        "colab_type": "text"
      },
      "source": [
        "# **Abstract**"
      ]
    },
    {
      "cell_type": "markdown",
      "metadata": {
        "id": "6UFTSzW7P8kL",
        "colab_type": "text"
      },
      "source": [
        "This report contains simple implementations of the scalar product, matrix-vector product, matrix-matrix product, Euclidian norm and Euclidian distance. All implementations were tested with correct and incorrect inputs. All implementations worked as expected. \n",
        "\n"
      ]
    },
    {
      "cell_type": "markdown",
      "metadata": {
        "id": "OkT8J7uOWpT3",
        "colab_type": "text"
      },
      "source": [
        "#**About the code**"
      ]
    },
    {
      "cell_type": "code",
      "metadata": {
        "id": "Pdll1Xc9WP0e",
        "colab_type": "code",
        "outputId": "893b9aa1-3c46-4790-e9ef-62343f64cff9",
        "colab": {
          "base_uri": "https://localhost:8080/",
          "height": 34
        }
      },
      "source": [
        "\"\"\"DD2363 Methods in Scientific Computing, \"\"\"\n",
        "\"\"\"KTH Royal Institute of Technology, Stockholm, Sweden.\"\"\"\n",
        "\n",
        "# Author: Linde van Beers (lindevb@kth.se)\n",
        "# Date: 17-01-2020\n",
        "\n",
        "# Based on a template by Johan Hoffman:\n",
        "# Copyright (C) 2019 Johan Hoffman (jhoffman@kth.se)\n",
        "\n",
        "# This file is part of the course DD2363 Methods in Scientific Computing\n",
        "# KTH Royal Institute of Technology, Stockholm, Sweden\n",
        "#\n",
        "# This is free software: you can redistribute it and/or modify\n",
        "# it under the terms of the GNU Lesser General Public License as published by\n",
        "# the Free Software Foundation, either version 3 of the License, or\n",
        "# (at your option) any later version."
      ],
      "execution_count": 4,
      "outputs": [
        {
          "output_type": "execute_result",
          "data": {
            "text/plain": [
              "'KTH Royal Institute of Technology, Stockholm, Sweden.'"
            ]
          },
          "metadata": {
            "tags": []
          },
          "execution_count": 4
        }
      ]
    },
    {
      "cell_type": "markdown",
      "metadata": {
        "id": "28xLGz8JX3Hh",
        "colab_type": "text"
      },
      "source": [
        "# **Set up environment**"
      ]
    },
    {
      "cell_type": "code",
      "metadata": {
        "id": "Xw7VlErAX7NS",
        "colab_type": "code",
        "colab": {}
      },
      "source": [
        "# Load neccessary modules.\n",
        "from google.colab import files\n",
        "\n",
        "import time\n",
        "import numpy as np\n",
        "import math\n",
        "\n",
        "from matplotlib import pyplot as plt\n",
        "from matplotlib import tri\n",
        "from matplotlib import axes\n",
        "from mpl_toolkits.mplot3d import Axes3D"
      ],
      "execution_count": 0,
      "outputs": []
    },
    {
      "cell_type": "markdown",
      "metadata": {
        "id": "gnO3lhAigLev",
        "colab_type": "text"
      },
      "source": [
        "# **Introduction**"
      ]
    },
    {
      "cell_type": "markdown",
      "metadata": {
        "id": "l5zMzgPlRAF6",
        "colab_type": "text"
      },
      "source": [
        "In this report I will show the implementation of 5 concepts in linear algebra: scalar product, matrix-vector product, matrix-matrix product, Euclidian norm and Euclidian distance. \n",
        "They are all simple implementations of the respective mathematical functions. "
      ]
    },
    {
      "cell_type": "markdown",
      "metadata": {
        "id": "WeFO9QMeUOAu",
        "colab_type": "text"
      },
      "source": [
        "# **Methods**"
      ]
    },
    {
      "cell_type": "markdown",
      "metadata": {
        "id": "11go_PGFeOKp",
        "colab_type": "text"
      },
      "source": [
        "All methods first check the input. Input that is a vector (x or y in the code) should be a 1 dimensional array. Input that is a matrix should be a 2 dimensional array. Matrices can have only one column or row. Each method then also checks whether the sizes of the input matrices/vectors match so that the operation can actually be done. "
      ]
    },
    {
      "cell_type": "markdown",
      "metadata": {
        "id": "8ATruqKCeCUU",
        "colab_type": "text"
      },
      "source": [
        "### Scalar product\n",
        "\n",
        "The function that was implemented is: \n",
        "\n",
        "$x \\bullet y = \\sum_{i=1}^n x_i y_i, x,y \\in \\mathbb{R}^n$"
      ]
    },
    {
      "cell_type": "code",
      "metadata": {
        "id": "ymib6PjRZBeN",
        "colab_type": "code",
        "colab": {}
      },
      "source": [
        "def scalar_product(x, y):\n",
        "  #check input\n",
        "  if x.ndim!=1 or y.ndim!=1:\n",
        "    return \"input not two vectors\"\n",
        "  elif x.shape[0]!=y.shape[0]:\n",
        "    return \"vectors not same size\"\n",
        "  #scalar product implementation\n",
        "  result = 0\n",
        "  for i in range(x.shape[0]):\n",
        "    result += x[i]*y[i]\n",
        "  return result"
      ],
      "execution_count": 0,
      "outputs": []
    },
    {
      "cell_type": "markdown",
      "metadata": {
        "id": "ELeskIdreGxY",
        "colab_type": "text"
      },
      "source": [
        "### Matrix-vector product\n",
        "\n",
        "The function that was implemented is: \n",
        "\n",
        "$Ax = b, A\\in \\mathbb{R}^{m \\times n}, x \\in \\mathbb{R}^n$\n",
        "\n",
        "$b_{ij} =\\sum_{j=1}^n a_{ij} x_j$"
      ]
    },
    {
      "cell_type": "code",
      "metadata": {
        "id": "Xe4WUTqKkDeV",
        "colab_type": "code",
        "colab": {}
      },
      "source": [
        "def matrix_vector_product(A,x):\n",
        "  #check input\n",
        "  if x.ndim!=1 or A.ndim!=2:\n",
        "    return \"input not a matrix and a vector\"\n",
        "  elif A.shape[1]!=x.shape[0]:\n",
        "    return \"sizes do not match\"\n",
        "  #matrix-vector product implementation\n",
        "  result = np.zeros((A.shape[0],))\n",
        "  for i in range(A.shape[0]):\n",
        "    for j in range(x.shape[0]):\n",
        "      result[i] += A[i,j]*x[j]\n",
        "  return result"
      ],
      "execution_count": 0,
      "outputs": []
    },
    {
      "cell_type": "markdown",
      "metadata": {
        "id": "9bc_DSu3eK9p",
        "colab_type": "text"
      },
      "source": [
        "### Matrix-matrix product\n",
        "\n",
        "The function that was implemented is: \n",
        "\n",
        "$AB = C, A\\in \\mathbb{R}^{m\\times l} B\\in \\mathbb{R}^{l\\times n}$\n",
        "\n",
        "$c_{ij} = \\sum_{k=1}^l a_{ik}b_{kj}$"
      ]
    },
    {
      "cell_type": "code",
      "metadata": {
        "id": "LYxIFgPjr3ag",
        "colab_type": "code",
        "colab": {}
      },
      "source": [
        "def matrix_product(A,B):\n",
        "  #check input\n",
        "  if A.shape[1]!=B.shape[0]:\n",
        "    return \"matrix sizes do not match\"\n",
        "  elif A.ndim!=2 or B.ndim!=2:\n",
        "    return \"input not two matrices\"\n",
        "  #matrix-matrix product implementation\n",
        "  result = np.zeros((A.shape[0],B.shape[1]))\n",
        "  for i in range(A.shape[0]):\n",
        "    for j in range(B.shape[1]):\n",
        "      for k in range(A.shape[1]):\n",
        "        result[i,j]+=A[i,k]*B[k,j]\n",
        "  return result"
      ],
      "execution_count": 0,
      "outputs": []
    },
    {
      "cell_type": "markdown",
      "metadata": {
        "id": "efq1kx_6mBDv",
        "colab_type": "text"
      },
      "source": [
        "### Euclidian norm\n",
        "\n",
        "The function that was implemented is: \n",
        "\n",
        "$||x||_2 = ({x_1}^2 +...+{x_n}^2)^{1/2}$"
      ]
    },
    {
      "cell_type": "code",
      "metadata": {
        "id": "he13FJxamGqz",
        "colab_type": "code",
        "colab": {}
      },
      "source": [
        "def euc_norm(x):\n",
        "  #check input\n",
        "  if x.ndim!=1:\n",
        "    return \"input is not a vector\"\n",
        "  #euclidian norm implementation\n",
        "  result = 0\n",
        "  for i in range(x.shape[0]):\n",
        "    result += pow(x[i],2)\n",
        "  result = math.sqrt(result)\n",
        "  return result"
      ],
      "execution_count": 0,
      "outputs": []
    },
    {
      "cell_type": "markdown",
      "metadata": {
        "id": "3dZr1a78mHAT",
        "colab_type": "text"
      },
      "source": [
        "### Euclidian distance\n",
        "\n",
        "The function that was implemented is: \n",
        "\n",
        "$d(x,y) = ||x-y||_2$"
      ]
    },
    {
      "cell_type": "code",
      "metadata": {
        "id": "Xo9vpZBUmHSe",
        "colab_type": "code",
        "colab": {}
      },
      "source": [
        "def euc_distance(x,y):\n",
        "  #check input\n",
        "  if x.ndim!=1 or y.ndim!=1:\n",
        "    return \"input not two vectors\"\n",
        "  elif x.shape[0]!=y.shape[0]:\n",
        "    return \"vectors not same size\"\n",
        "  #euclidian distance implementation\n",
        "  result = x\n",
        "  for i in range(x.shape[0]):\n",
        "    result[i] -= y[i]\n",
        "  result = euc_norm(result)\n",
        "  return result"
      ],
      "execution_count": 0,
      "outputs": []
    },
    {
      "cell_type": "markdown",
      "metadata": {
        "id": "SsQLT38gVbn_",
        "colab_type": "text"
      },
      "source": [
        "# **Results**"
      ]
    },
    {
      "cell_type": "markdown",
      "metadata": {
        "id": "RLwlnOzuV-Cd",
        "colab_type": "text"
      },
      "source": [
        "In this section I provide some examples that my functions as described in the section 'Methods' were tested on, as well as the results generated by the function, indicated by '->'.\n",
        "All tests were successful in giving the expected result."
      ]
    },
    {
      "cell_type": "markdown",
      "metadata": {
        "id": "bINYEnaWiyRM",
        "colab_type": "text"
      },
      "source": [
        "### Scalar product"
      ]
    },
    {
      "cell_type": "code",
      "metadata": {
        "id": "FxFl71sofqGE",
        "colab_type": "code",
        "outputId": "8465a72a-3aca-40fb-e8c9-06c0983c28d9",
        "colab": {
          "base_uri": "https://localhost:8080/",
          "height": 255
        }
      },
      "source": [
        "print(\"Scalar product test:\\n\")\n",
        "x = np.array([1,2,3])\n",
        "y = np.array([4,5,6])\n",
        "print(\"x =\",x)\n",
        "print(\"y =\",y)\n",
        "print(\"->\",scalar_product(x,y),\"\\n\")\n",
        "x = np.array([0,1,2,3])\n",
        "y = np.array([4,5,6,7,8])\n",
        "print(\"x =\",x)\n",
        "print(\"y =\",y)\n",
        "print(\"->\",scalar_product(x,y),\"\\n\")\n",
        "x = np.array([[0,1],[2,3]])\n",
        "y = np.array([4,5])\n",
        "print(\"x =\",x)\n",
        "print(\"y =\",y)\n",
        "print(\"->\",scalar_product(x,y))"
      ],
      "execution_count": 11,
      "outputs": [
        {
          "output_type": "stream",
          "text": [
            "Scalar product test:\n",
            "\n",
            "x = [1 2 3]\n",
            "y = [4 5 6]\n",
            "-> 32 \n",
            "\n",
            "x = [0 1 2 3]\n",
            "y = [4 5 6 7 8]\n",
            "-> vectors not same size \n",
            "\n",
            "x = [[0 1]\n",
            " [2 3]]\n",
            "y = [4 5]\n",
            "-> input not two vectors\n"
          ],
          "name": "stdout"
        }
      ]
    },
    {
      "cell_type": "markdown",
      "metadata": {
        "id": "MzUzGBOzi2g_",
        "colab_type": "text"
      },
      "source": [
        "### Matrix-vector product"
      ]
    },
    {
      "cell_type": "code",
      "metadata": {
        "id": "i7Uyn87QtXNj",
        "colab_type": "code",
        "outputId": "a203933f-2cd4-4406-9a6b-4679216cf5eb",
        "colab": {
          "base_uri": "https://localhost:8080/",
          "height": 425
        }
      },
      "source": [
        "print(\"Matrix-vector product test:\\n\")\n",
        "A=np.array([[1,2],[3,4],[5,6]])\n",
        "x = np.array([1,2])\n",
        "print(\"A =\",A)\n",
        "print(\"x =\",x)\n",
        "print(\"->\",matrix_vector_product(A,x),\"\\n\")\n",
        "\n",
        "A=np.array([[1,2],[3,4],[5,6]])\n",
        "x = np.array([[1,2],[3,4]])\n",
        "print(\"A =\",A)\n",
        "print(\"x =\",x)\n",
        "print(\"->\",matrix_vector_product(A,x),\"\\n\")\n",
        "\n",
        "A=np.array([1,2])\n",
        "x = np.array([3,4])\n",
        "print(\"A =\",A)\n",
        "print(\"x =\",x)\n",
        "print(\"->\",matrix_vector_product(A,x),\"\\n\")\n",
        "\n",
        "A=np.array([[1,2],[3,4],[5,6]])\n",
        "x = np.array([1,2,3])\n",
        "print(\"A =\",A)\n",
        "print(\"x =\",x)\n",
        "print(\"->\",matrix_vector_product(A,x))"
      ],
      "execution_count": 12,
      "outputs": [
        {
          "output_type": "stream",
          "text": [
            "Matrix-vector product test:\n",
            "\n",
            "A = [[1 2]\n",
            " [3 4]\n",
            " [5 6]]\n",
            "x = [1 2]\n",
            "-> [ 5. 11. 17.] \n",
            "\n",
            "A = [[1 2]\n",
            " [3 4]\n",
            " [5 6]]\n",
            "x = [[1 2]\n",
            " [3 4]]\n",
            "-> input not a matrix and a vector \n",
            "\n",
            "A = [1 2]\n",
            "x = [3 4]\n",
            "-> input not a matrix and a vector \n",
            "\n",
            "A = [[1 2]\n",
            " [3 4]\n",
            " [5 6]]\n",
            "x = [1 2 3]\n",
            "-> sizes do not match\n"
          ],
          "name": "stdout"
        }
      ]
    },
    {
      "cell_type": "markdown",
      "metadata": {
        "id": "H5lb4uqwi6B6",
        "colab_type": "text"
      },
      "source": [
        "### Matrix-matrix product"
      ]
    },
    {
      "cell_type": "code",
      "metadata": {
        "id": "MasTF1Ggtay1",
        "colab_type": "code",
        "outputId": "046f1e9f-5608-4d69-94a9-1f28c5397cb0",
        "colab": {
          "base_uri": "https://localhost:8080/",
          "height": 442
        }
      },
      "source": [
        "print(\"Matrix-matrix product test:\\n\")\n",
        "\n",
        "A=np.array([[1,2],[3,4]])\n",
        "B= np.array([[5,6],[7,8]])\n",
        "print(\"A =\",A)\n",
        "print(\"B =\",B)\n",
        "print(\"->\",matrix_product(A,B),\"\\n\")\n",
        "\n",
        "A=np.array([[1,2],[3,4],[5,6]])\n",
        "B= np.array([[5,6],[7,8]])\n",
        "print(\"A =\",A)\n",
        "print(\"B =\",B)\n",
        "print(\"->\",matrix_product(A,B),\"\\n\")\n",
        "\n",
        "A=np.array([[1,2],[3,4]])\n",
        "B= np.array([[3,4],[5,6],[7,8]])\n",
        "print(\"A =\",A)\n",
        "print(\"B =\",B)\n",
        "print(\"->\",matrix_product(A,B),\"\\n\")"
      ],
      "execution_count": 13,
      "outputs": [
        {
          "output_type": "stream",
          "text": [
            "Matrix-matrix product test:\n",
            "\n",
            "A = [[1 2]\n",
            " [3 4]]\n",
            "B = [[5 6]\n",
            " [7 8]]\n",
            "-> [[19. 22.]\n",
            " [43. 50.]] \n",
            "\n",
            "A = [[1 2]\n",
            " [3 4]\n",
            " [5 6]]\n",
            "B = [[5 6]\n",
            " [7 8]]\n",
            "-> [[19. 22.]\n",
            " [43. 50.]\n",
            " [67. 78.]] \n",
            "\n",
            "A = [[1 2]\n",
            " [3 4]]\n",
            "B = [[3 4]\n",
            " [5 6]\n",
            " [7 8]]\n",
            "-> matrix sizes do not match \n",
            "\n"
          ],
          "name": "stdout"
        }
      ]
    },
    {
      "cell_type": "markdown",
      "metadata": {
        "id": "6tAdU87rqJbA",
        "colab_type": "text"
      },
      "source": [
        "### Euclidian Norm"
      ]
    },
    {
      "cell_type": "code",
      "metadata": {
        "id": "yv0uIDRWogVv",
        "colab_type": "code",
        "colab": {
          "base_uri": "https://localhost:8080/",
          "height": 170
        },
        "outputId": "7a2714f2-c837-48eb-a2d5-82146b538a38"
      },
      "source": [
        "print(\"Euclidian norm test:\\n\")\n",
        "x = np.array([1,2,3,4])\n",
        "print(\"x =\",x)\n",
        "print(\"->\",euc_norm(x),\"\\n\")\n",
        "\n",
        "x = np.array([[1,2],[3,4]])\n",
        "print(\"x =\",x)\n",
        "print(\"->\",euc_norm(x),\"\\n\")"
      ],
      "execution_count": 22,
      "outputs": [
        {
          "output_type": "stream",
          "text": [
            "Euclidian norm test:\n",
            "\n",
            "x = [1 2 3 4]\n",
            "-> 5.477225575051661 \n",
            "\n",
            "x = [[1 2]\n",
            " [3 4]]\n",
            "-> input is not a vector \n",
            "\n"
          ],
          "name": "stdout"
        }
      ]
    },
    {
      "cell_type": "markdown",
      "metadata": {
        "id": "O1u-HPe3qNXZ",
        "colab_type": "text"
      },
      "source": [
        "### Euclidian distance"
      ]
    },
    {
      "cell_type": "code",
      "metadata": {
        "id": "C1uIdwSHpqks",
        "colab_type": "code",
        "colab": {
          "base_uri": "https://localhost:8080/",
          "height": 340
        },
        "outputId": "f48d0c8a-88b1-488e-f3d0-5f271ba703c6"
      },
      "source": [
        "print(\"Euclidian distance test:\\n\")\n",
        "x = np.array([1,2,3,4])\n",
        "y = np.array([4,3,2,1])\n",
        "print(\"x =\",x)\n",
        "print(\"y =\",y)\n",
        "print(\"->\",euc_distance(x,y),\"\\n\")\n",
        "\n",
        "x = np.array([1,2,3,4])\n",
        "y = np.array([1,2,3,4])\n",
        "print(\"x =\",x)\n",
        "print(\"y =\",y)\n",
        "print(\"->\",euc_distance(x,y),\"\\n\")\n",
        "\n",
        "x = np.array([1,2,3,4])\n",
        "y = np.array([4,3,2,1,0])\n",
        "print(\"x =\",x)\n",
        "print(\"y =\",y)\n",
        "print(\"->\",euc_distance(x,y),\"\\n\")\n",
        "\n",
        "x = np.array([1,2,3,4])\n",
        "y = np.array([[4,3],[2,1]])\n",
        "print(\"x =\",x)\n",
        "print(\"y =\",y)\n",
        "print(\"->\",euc_distance(x,y),\"\\n\")\n"
      ],
      "execution_count": 29,
      "outputs": [
        {
          "output_type": "stream",
          "text": [
            "Euclidian distance test:\n",
            "\n",
            "x = [1 2 3 4]\n",
            "y = [4 3 2 1]\n",
            "-> 4.47213595499958 \n",
            "\n",
            "x = [1 2 3 4]\n",
            "y = [1 2 3 4]\n",
            "-> 0.0 \n",
            "\n",
            "x = [1 2 3 4]\n",
            "y = [4 3 2 1 0]\n",
            "-> vectors not same size \n",
            "\n",
            "x = [1 2 3 4]\n",
            "y = [[4 3]\n",
            " [2 1]]\n",
            "-> input not two vectors \n",
            "\n"
          ],
          "name": "stdout"
        }
      ]
    },
    {
      "cell_type": "markdown",
      "metadata": {
        "id": "_4GLBv0zWr7m",
        "colab_type": "text"
      },
      "source": [
        "# **Discussion**"
      ]
    },
    {
      "cell_type": "markdown",
      "metadata": {
        "id": "6bcsDSoRXHZe",
        "colab_type": "text"
      },
      "source": [
        "As expected, the functions were quite easy to implement, and they give the correct answers. It is important to make sure the functions only accept correct input as it can lead to confusing results and errors otherwise. This is easy to do by starting each function by checking the input against the desired input and giving adequate feedback if the input requirements are not met. "
      ]
    }
  ]
}
